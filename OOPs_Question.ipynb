{
  "nbformat": 4,
  "nbformat_minor": 0,
  "metadata": {
    "colab": {
      "provenance": []
    },
    "kernelspec": {
      "name": "python3",
      "display_name": "Python 3"
    },
    "language_info": {
      "name": "python"
    }
  },
  "cells": [
    {
      "cell_type": "markdown",
      "source": [
        "# **Python OOPs Questions ....**"
      ],
      "metadata": {
        "id": "yhIwGZ57rdmn"
      }
    },
    {
      "cell_type": "markdown",
      "source": [
        "**Ques 1. What is Object-Oriented Programming (OOP)?**\n",
        "\n",
        "Ans 1. Object-oriented programming (OOP) is a computer programming model that organizes software around objects, rather than logic and functions. In OOP, objects are units that contain data and functions."
      ],
      "metadata": {
        "id": "YYhgR8fgrj9Q"
      }
    },
    {
      "cell_type": "markdown",
      "source": [
        "**Ques 2. What is a class in OOP?**\n",
        "\n",
        "**Ans 2.** In object-oriented programming (OOP), a class is a template that defines the methods and variables for a specific type of object.\n"
      ],
      "metadata": {
        "id": "FCIZYHpOvgCB"
      }
    },
    {
      "cell_type": "markdown",
      "source": [
        "**Ques 3. What is an object in OOP?**\n",
        "\n",
        "**Ans 3.** In Object-Oriented Programming , an object is an instance of a class. It is a specific, concrete entity that is created from the blueprint or template provided by the class."
      ],
      "metadata": {
        "id": "ubI-smpYru6o"
      }
    },
    {
      "cell_type": "markdown",
      "source": [
        "**Ques 4. What is the difference between abstraction and encapsulation?**\n",
        "\n",
        "**Ans 4.** In programming, abstraction and encapsulation are both techniques that help keep code organized and separate unrelated items. The main difference between the two is that abstraction focuses on what an object does, while encapsulation focuses on how an object's data is accessed and manipulated."
      ],
      "metadata": {
        "id": "8iu9mHiPxcAA"
      }
    },
    {
      "cell_type": "markdown",
      "source": [
        "**Ques 5.**What are dunder methods in Python?\n",
        "\n",
        "**Ans 5.** Dunder methods, also known as magic methods or special methods, are predefined methods in Python that add special functionality to classes and objects.Python are special methods that have double underscores before and after their name, such as __init__, __str__, and __add__."
      ],
      "metadata": {
        "id": "iSUNW7Xeyq2r"
      }
    },
    {
      "cell_type": "markdown",
      "source": [
        "**Ques 6. Explain the concept of inheritance in OOP?**\n",
        "\n",
        "**Ans 6.** In object-oriented programming (OOP),inheritance is a fundamental concept that allows a class to inherit properties and behaviors from another class.It is a fundamental concept in OOP that promotes code reuse and establishes relationships between classes."
      ],
      "metadata": {
        "id": "SZIOBrfW3kCx"
      }
    },
    {
      "cell_type": "markdown",
      "source": [
        "**Ques 7. What is polymorphism in OOP?**\n",
        "\n",
        "Ans 7.Polymorphism is a concept in object-oriented programming (OOP) that allows objects of different types to be treated as objects of a common superclass.\n",
        "Polymorphism in OOPs is one of the four important principles of object-oriented programming (OOP), which allows objects of different classes, objects, variables and methods to exist in different forms."
      ],
      "metadata": {
        "id": "p7HJRJv35SXz"
      }
    },
    {
      "cell_type": "markdown",
      "source": [
        "**Ques 8.How is encapsulation achieved in Python?**\n",
        "\n",
        "**Ans 8.** In Python, encapsulation is achieved by using access modifiers to limit access to a class's variables and methods.\n",
        "Along with the practice of controlling access to the internal state of an object.\n",
        "Encapsulation allows an object to hide its internal data and only expose a controlled interface for interaction."
      ],
      "metadata": {
        "id": "aqq8-jZF7Vt_"
      }
    },
    {
      "cell_type": "markdown",
      "source": [
        "**Ques 9. What is a constructor in Python?**\n",
        "\n",
        "**Ans 9.** A constructor is a special method that is used to initialize a newly created object. The constructor method in Python is called __init__().\n",
        "In Python,a constructor is a special method that is automatically called when a new object of a class is created."
      ],
      "metadata": {
        "id": "emgSEfuc9rno"
      }
    },
    {
      "cell_type": "markdown",
      "source": [
        "**Ques 10. What are class and static methods in Python?**\n",
        "\n",
        "**Ans 10.** In Python, class methods and static methods are two types of methods that can be defined in a class.\n",
        "\n",
        "**Class Method :-** A class method is a method that is bound to the class and not the instance of the class. It can modify the class state or access class-level data, but it cannot modify the instance state directly.\n",
        "\n",
        "**Static Method:-** A static method is a method that does not take self or cls as its first argument. It behaves like a regular function, but it belongs to the class's namespace. Static methods can't access or modify class-level or instance-level attributes unless they are explicitly passed as arguments."
      ],
      "metadata": {
        "id": "yKlguiVSy01M"
      }
    },
    {
      "cell_type": "markdown",
      "source": [
        "**Ques 11.What is method overloading in Python?**\n",
        "\n",
        "**Ans 11.** a concept in Python that allows a single method to be called in different ways, with different numbers of parameters.A define multiple methods with the same name but different arguments (number or type).\n"
      ],
      "metadata": {
        "id": "7dVjkPp0BFzG"
      }
    },
    {
      "cell_type": "markdown",
      "source": [
        "**Ques 12.What is method overriding in OOP?**\n",
        "\n",
        "**Ans 12.**A feature in object-oriented programming (OOP) that allows a subclass to replace a method in its superclass with its own implementation."
      ],
      "metadata": {
        "id": "ajxw1rB6Duyo"
      }
    },
    {
      "cell_type": "markdown",
      "source": [
        "**Ques 13. What is a property decorator in Python?**\n",
        "\n",
        "**Ans 13.** The decorator is a built-in Python decorator that allows you to turn class methods into properties in a way that's both elegant and user-friendly."
      ],
      "metadata": {
        "id": "vmz0gCZFGLas"
      }
    },
    {
      "cell_type": "markdown",
      "source": [
        "**Ques 14. Why is polymorphism important in OOP?**\n",
        "\n",
        "**Ans 14.**Polymorphism is one of the fundamental concepts in Object-Oriented Programming (OOP), and it plays a key role in making code more flexible, maintainable, and reusability,  extensibility."
      ],
      "metadata": {
        "id": "1ma3pMOYHIZZ"
      }
    },
    {
      "cell_type": "markdown",
      "source": [
        "**Ques 15. What is an abstract class in Python?**\n",
        "\n",
        "**Ans 15.** In Python, an abstract class is a class that cannot be instantiated on its own and is designed to be a blueprint for other classes."
      ],
      "metadata": {
        "id": "RArvMhXHH1pQ"
      }
    },
    {
      "cell_type": "markdown",
      "source": [
        "**Ques 16.What are the advantages of OOP?**\n",
        "\n",
        "Ans 16. One of the top advantages of OOP is that it allows developers to divide a complex software system into small, manageable objects.\n",
        "Each object is responsible for a specific function. They can develop, test, and maintain these self-contained units independently."
      ],
      "metadata": {
        "id": "EV__fS1CI6hj"
      }
    },
    {
      "cell_type": "markdown",
      "source": [
        "**Ques 17.What is the difference between a class variable and an instance variable.**\n",
        "\n",
        "**Ans 17.** The main difference between a class variable and an instance variable is that a class variable is shared by all instances of a class, while an instance variable is unique to each instance\n",
        "\n",
        "**Class variable:-** A class variable is a variable that is shared by all instances (objects) of a class. It is defined within the class but outside any methods, and it has the same value for all instances of that class.\n",
        "\n",
        "**nstance Variable:-** An instance variable is a variable that is specific to each instance (object) of a class. Each object has its own copy of the instance variable, meaning the values can vary between different objects. Instance variables are typically defined within methods, often within the constructor (__init__ in Python, for example), and are accessed via self."
      ],
      "metadata": {
        "id": "kClo08rLKCqI"
      }
    },
    {
      "cell_type": "markdown",
      "source": [
        "**Ques 18.What is multiple inheritance in Python?**\n",
        "\n",
        "**Ans 18.** Multiple inheritance is a feature in Python (and other object-oriented programming languages) where a class can inherit attributes and methods from more than one parent class. This allows a class to combine behavior from multiple classes, promoting code reuse and modularity."
      ],
      "metadata": {
        "id": "vrXmkqCYL85Z"
      }
    },
    {
      "cell_type": "markdown",
      "source": [
        "**Ques 19.Explain the purpose of ‘’__str__’ and ‘__repr__’ ‘ methods in Python?**\n",
        "\n",
        "**Ans 19.** In Python, the __str__ and __repr__ methods are used to return string representations of an object.\n",
        "\n",
        "**__str__ :-** Returns a readable string representation of an object for humans to understand. It's used for logging or displaying object information. The __str__ method is called by the built-in print(), str(), and format() functions.\n",
        "\n",
        "**__repr__():- ** Returns an unambiguous string representation of an object that can be used to replicate it. It's used for debugging and development. The __repr__ method is called by the built-in repr() function."
      ],
      "metadata": {
        "id": "67ry1uQFMgX6"
      }
    },
    {
      "cell_type": "markdown",
      "source": [
        "**Ques 20. What is the significance of the ‘super()’ function in Python?**\n",
        "\n",
        "**Ans 20.** The super() function in Python is a built-in function that is primarily used to call methods from a parent class (superclass) in a class that inherits from it. It plays a crucial role in object-oriented programming (OOP)."
      ],
      "metadata": {
        "id": "zdqAFvNQPnZ7"
      }
    },
    {
      "cell_type": "markdown",
      "source": [
        "**Ques 21.What is the significance of the __del__ method in Python**\n",
        "\n",
        "**Ans 21.** The del() method in Python, also known as the destructor method, is called after an object's garbage collection occurs. This happens after all references to the object have been destroyed."
      ],
      "metadata": {
        "id": "nhert98VQJX6"
      }
    },
    {
      "cell_type": "markdown",
      "source": [
        "**Ques 22. What is the difference between @staticmethod and @classmethod in Python?**\n",
        "\n",
        "**Ans 22.** In Python, @staticmethod and @classmethod are both decorators that modify the behavior of methods inside a class, but they serve different purposes. Here's a detailed comparison between the two:\n",
        "\n",
        "**@staticmethod:-** A static method is a method that belongs to the class itself rather than to any instance of the class. It doesn't take a reference to the instance (self) or the class (cls) as its first argument. Instead, it behaves like a regular function but is logically bound to the class because it is defined within the class body.\n",
        "\n",
        "**@classmethod :-** A class method is a method that belongs to the class itself rather than to an instance. It takes a reference to the class (cls) as its first parameter, which allows it to access class-level attributes and methods. Unlike a static method, a class method is aware of the class it is called on and can modify class-level variables."
      ],
      "metadata": {
        "id": "PV18gCkARBU8"
      }
    },
    {
      "cell_type": "markdown",
      "source": [
        "**Ques 23. How does polymorphism work in Python with inheritance?**\n",
        "\n",
        "**Ans 23.** Polymorphism is one of the core concepts of object-oriented programming (OOP), and it allows objects of different classes to be treated as objects of a common superclass. Specifically, method polymorphism refers to the ability of different classes to define methods with the same name, but possibly with different behavior (implementation). Python supports polymorphism through inheritance and method overriding.\n",
        "\n"
      ],
      "metadata": {
        "id": "wjqWchmSR8CO"
      }
    },
    {
      "cell_type": "markdown",
      "source": [
        "**Ques 24. What is method chaining in Python OOP?**\n",
        "\n",
        "**Ans 24.** Method chaining in Python (or in any object-oriented programming language) refers to the practice of calling multiple methods on the same object in a single statement or line of code. This is made possible because each method in the chain typically returns the object itself (self), allowing you to call another method directly on that returned object."
      ],
      "metadata": {
        "id": "S-FKh_r_SPso"
      }
    },
    {
      "cell_type": "markdown",
      "source": [
        "**Ques 25. What is the purpose of the __call__ method in Python?**  \n",
        "\n",
        "**Ans 25.**\n",
        "In Python, the __call__ method is a special method that allows an instance of a class to be called like a function. When an object is \"called\" as if it were a function (i.e., using parentheses ()), Python will invoke the __call__ method defined in the class."
      ],
      "metadata": {
        "id": "TOmqNm6gSpVI"
      }
    },
    {
      "cell_type": "markdown",
      "source": [
        " # Practical Questions...."
      ],
      "metadata": {
        "id": "837YJTsJT0W0"
      }
    },
    {
      "cell_type": "code",
      "source": [
        "# Question 1. Create a parent class Animal with a method speak() that prints a generic message. Create a child class Dog that overrides the speak() method to print \"Bark!\".\n",
        "\n",
        "'''\n",
        "# Parent class Animal\n",
        "class Animal:\n",
        "    def speak(self):\n",
        "        print(\"Some generic animal sound.\")\n",
        "\n",
        "# Child class Dog that inherits from Animal\n",
        "class Dog(Animal):\n",
        "    def speak(self):\n",
        "        print(\"Bark!\")\n",
        "\n",
        "# Example usage:\n",
        "animal = Animal()\n",
        "animal.speak()  # Output: Some generic animal sound.\n",
        "\n",
        "dog = Dog()\n",
        "dog.speak()  # Output: Bark!\n",
        "\n",
        "'''"
      ],
      "metadata": {
        "colab": {
          "base_uri": "https://localhost:8080/",
          "height": 70
        },
        "id": "32wuH0G0UBz1",
        "outputId": "8664d15e-745b-4b4c-f68e-f81b23ab4fb0"
      },
      "execution_count": null,
      "outputs": [
        {
          "output_type": "execute_result",
          "data": {
            "text/plain": [
              "'\\n# Parent class Animal\\nclass Animal:\\n    def speak(self):\\n        print(\"Some generic animal sound.\")\\n\\n# Child class Dog that inherits from Animal\\nclass Dog(Animal):\\n    def speak(self):\\n        print(\"Bark!\")\\n\\n# Example usage:\\nanimal = Animal()\\nanimal.speak()  # Output: Some generic animal sound.\\n\\ndog = Dog()\\ndog.speak()  # Output: Bark!\\n\\n'"
            ],
            "application/vnd.google.colaboratory.intrinsic+json": {
              "type": "string"
            }
          },
          "metadata": {},
          "execution_count": 1
        }
      ]
    },
    {
      "cell_type": "code",
      "source": [
        "#  questio 2. Write a program to create an abstract class Shape with a method area(). Derive classes Circle and Rectangle from it and implement the area() method in both.\n",
        "\n",
        "'''\n",
        "from abc import ABC, abstractmethod\n",
        "\n",
        "# Abstract base class Shape\n",
        "class Shape(ABC):\n",
        "\n",
        "    @abstractmethod\n",
        "    def area(self):\n",
        "        pass\n",
        "\n",
        "# Derived class Circle\n",
        "class Circle(Shape):\n",
        "    def __init__(self, radius):\n",
        "        self.radius = radius\n",
        "\n",
        "    def area(self):\n",
        "        # Area of circle = π * radius^2\n",
        "        return 3.14159 * self.radius ** 2\n",
        "\n",
        "# Derived class Rectangle\n",
        "class Rectangle(Shape):\n",
        "    def __init__(self, length, width):\n",
        "        self.length = length\n",
        "        self.width = width\n",
        "\n",
        "    def area(self):\n",
        "        # Area of rectangle = length * width\n",
        "        return self.length * self.width\n",
        "\n",
        "# Example usage\n",
        "circle = Circle(5)\n",
        "print(f\"Area of circle: {circle.area()}\")  # Output: 78.53975\n",
        "\n",
        "rectangle = Rectangle(4, 6)\n",
        "print(f\"Area of rectangle: {rectangle.area()}\")  # Output: 24\n",
        "\n",
        "'''"
      ],
      "metadata": {
        "id": "oIzO2fVyW4eE"
      },
      "execution_count": null,
      "outputs": []
    },
    {
      "cell_type": "code",
      "source": [
        "# Question 3. mplement a multi-level inheritance scenario where a class Vehicle has an attribute type. Derive a class Car and further derive a class ElectricCar that adds a battery attribute..\n",
        "\n",
        "'''\n",
        "# Base class Vehicle\n",
        "class Vehicle:\n",
        "    def __init__(self, vehicle_type):\n",
        "        self.vehicle_type = vehicle_type  # Attribute for vehicle type\n",
        "\n",
        "    def display_type(self):\n",
        "        print(f\"This is a {self.vehicle_type}.\")\n",
        "\n",
        "# Derived class Car (inherits from Vehicle)\n",
        "class Car(Vehicle):\n",
        "    def __init__(self, vehicle_type, make, model):\n",
        "        # Call the constructor of the parent class (Vehicle)\n",
        "        super().__init__(vehicle_type)\n",
        "        self.make = make      # Attribute for car make\n",
        "        self.model = model    # Attribute for car model\n",
        "\n",
        "    def display_info(self):\n",
        "        print(f\"Car make: {self.make}, Model: {self.model}, Type: {self.vehicle_type}\")\n",
        "\n",
        "# Further derived class ElectricCar (inherits from Car)\n",
        "class ElectricCar(Car):\n",
        "    def __init__(self, vehicle_type, make, model, battery_capacity):\n",
        "\n",
        "        super().__init__(vehicle_type, make, model)\n",
        "        self.battery_capacity = battery_capacity  # Attribute for battery capacity\n",
        "\n",
        "    def display_electric_car_info(self):\n",
        "        print(f\"Electric Car make: {self.make}, Model: {self.model}, \"\n",
        "              f\"Type: {self.vehicle_type}, Battery Capacity: {self.battery_capacity} kWh\")\n",
        "\n",
        "\n",
        "vehicle = Vehicle(\"Vehicle\")\n",
        "vehicle.display_type()  # Output: This is a Vehicle.\n",
        "\n",
        "car = Car(\"Car\", \"Toyota\", \"Camry\")\n",
        "car.display_info()  # Output: Car make: Toyota, Model: Camry, Type: Car\n",
        "\n",
        "electric_car = ElectricCar(\"Electric Car\", \"Tesla\", \"Model S\", 100)\n",
        "electric_car.display_electric_car_info()\n",
        "\n",
        "'''"
      ],
      "metadata": {
        "id": "I1ct8sKtYNX9"
      },
      "execution_count": null,
      "outputs": []
    },
    {
      "cell_type": "code",
      "source": [
        "# Question 4.  Implement a multi-level inheritance scenario where a class Vehicle has an attribute type. Derive a class Car and further derive a class ElectricCar that adds a battery attribute.\n",
        "# Base class Vehicle\n",
        "\n",
        "'''\n",
        "\n",
        "# Base class Vehicle\n",
        "class Vehicle:\n",
        "    def __init__(self, vehicle_type):\n",
        "        self.vehicle_type = vehicle_type  # Attribute for vehicle type\n",
        "\n",
        "    def display_type(self):\n",
        "        print(f\"This is a {self.vehicle_type}.\")\n",
        "\n",
        "# Derived class Car (inherits from Vehicle)\n",
        "\n",
        "class Car(Vehicle):\n",
        "    def __init__(self, vehicle_type, make, model):\n",
        "\n",
        "        super().__init__(vehicle_type)\n",
        "        self.make = make      # Attribute for car make\n",
        "        self.model = model    # Attribute for car model\n",
        "\n",
        "    def display_info(self):\n",
        "        print(f\"Car make: {self.make}, Model: {self.model}, Type: {self.vehicle_type}\")\n",
        "\n",
        "\n",
        "class ElectricCar(Car):\n",
        "    def __init__(self, vehicle_type, make, model, battery_capacity):\n",
        "        # Call the constructor of the parent class (Car)\n",
        "        super().__init__(vehicle_type, make, model)\n",
        "        self.battery_capacity = battery_capacity  # Attribute for battery capacity\n",
        "\n",
        "    def display_electric_car_info(self):\n",
        "        print(f\"Electric Car make: {self.make}, Model: {self.model}, \"\n",
        "              f\"Type: {self.vehicle_type}, Battery Capacity: {self.battery_capacity} kWh\")\n",
        "\n",
        "vehicle = Vehicle(\"Vehicle\")\n",
        "vehicle.display_type()  # Output: This is a Vehicle.\n",
        "\n",
        "car = Car(\"Car\", \"Toyota\", \"Camry\")\n",
        "car.display_info()  # Output: Car make: Toyota, Model: Camry, Type: Car\n",
        "\n",
        "electric_car = ElectricCar(\"Electric Car\", \"Tesla\", \"Model S\", 100)\n",
        "electric_car.display_electric_car_info()\n",
        "\n",
        "'''\n",
        "\n",
        "\n"
      ],
      "metadata": {
        "id": "bru0GExbYiJW"
      },
      "execution_count": null,
      "outputs": []
    },
    {
      "cell_type": "code",
      "source": [
        "# Question 5. Write a program to demonstrate encapsulation by creating a class BankAccount with private attributes balance and methods to deposit, withdraw, and check balance.\n",
        "\n",
        "'''\n",
        "\n",
        "class BankAccount:\n",
        "    def __init__(self, initial_balance=0):\n",
        "        # Private attribute __balance\n",
        "        self.__balance = initial_balance\n",
        "\n",
        "    # Public method to deposit money\n",
        "    def deposit(self, amount):\n",
        "        if amount > 0:\n",
        "            self.__balance += amount\n",
        "            print(f\"Deposited: ${amount}. Current balance: ${self.__balance}\")\n",
        "        else:\n",
        "            print(\"Deposit amount must be positive.\")\n",
        "\n",
        "    # Public method to withdraw money\n",
        "\n",
        "    def withdraw(self, amount):\n",
        "        if amount > 0 and amount <= self.__balance:\n",
        "            self.__balance -= amount\n",
        "            print(f\"Withdrew: ${amount}. Current balance: ${self.__balance}\")\n",
        "        elif amount > self.__balance:\n",
        "            print(\"Insufficient balance.\")\n",
        "        else:\n",
        "            print(\"Withdrawal amount must be positive.\")\n",
        "\n",
        "    # Public method to check the balance\n",
        "\n",
        "    def check_balance(self):\n",
        "        print(f\"Current balance: ${self.__balance}\")\n",
        "\n",
        "# Example usage\n",
        "\n",
        "account = BankAccount(1000)\n",
        "account.check_balance()\n",
        "\n",
        "account.deposit(500)\n",
        "account.withdraw(200)\n",
        "account.withdraw(1500)\n",
        "account.check_balance()\n",
        "\n",
        "'''"
      ],
      "metadata": {
        "id": "2yZYGg6hbLVp"
      },
      "execution_count": null,
      "outputs": []
    },
    {
      "cell_type": "code",
      "source": [
        "# Question 6.  Demonstrate runtime polymorphism using a method play() in a base class Instrument. Derive classes Guitar and Piano that implement their own version of play().\n",
        "\n",
        "'''\n",
        "# Base class Instrument\n",
        "class Instrument:\n",
        "    def play(self):\n",
        "        print(\"Playing an instrument\")\n",
        "\n",
        "# Derived class Guitar\n",
        "class Guitar(Instrument):\n",
        "    def play(self):\n",
        "        print(\"Strumming the guitar\")\n",
        "\n",
        "\n",
        "class Piano(Instrument):\n",
        "    def play(self):\n",
        "        print(\"Playing the piano\")\n",
        "\n",
        "\n",
        "def perform_play(instrument):\n",
        "    instrument.play()\n",
        "\n",
        "\n",
        "guitar = Guitar()\n",
        "piano = Piano()\n",
        "\n",
        "\n",
        "perform_play(guitar)  # Output: Strumming the guitar\n",
        "perform_play(piano)   # Output: Playing the piano\n",
        "\n",
        "'''\n"
      ],
      "metadata": {
        "id": "ZEwRrEwlbjcr"
      },
      "execution_count": null,
      "outputs": []
    },
    {
      "cell_type": "code",
      "source": [
        "# Question 7.Create a class MathOperations with a class method add_numbers() to add two numbers and a static method subtract_numbers() to subtract two numbers.\n",
        "\n",
        "'''\n",
        "\n",
        "class MathOperations:\n",
        "\n",
        "    @classmethod\n",
        "    def add_numbers(cls, num1, num2):\n",
        "        \"\"\"Class method to add two numbers.\"\"\"\n",
        "        return num1 + num2\n",
        "\n",
        "    @staticmethod\n",
        "    def subtract_numbers(num1, num2):\n",
        "        \"\"\"Static method to subtract two numbers.\"\"\"\n",
        "        return num1 - num2\n",
        "\n",
        "# Example usage:\n",
        "\n",
        "# Using class method to add numbers\n",
        "\n",
        "result_add = MathOperations.add_numbers(10, 5)\n",
        "print(f\"Sum: {result_add}\")  # Output: Sum: 15\n",
        "\n",
        "# Using static method to subtract numbers\n",
        "\n",
        "result_subtract = MathOperations.subtract_numbers(10, 5)\n",
        "print(f\"Difference: {result_subtract}\")  # Output: Difference: 5\n",
        "\n",
        "'''"
      ],
      "metadata": {
        "id": "qLxukkpHb9fz"
      },
      "execution_count": null,
      "outputs": []
    },
    {
      "cell_type": "code",
      "source": [
        "# Question 8 . Implement a class Person with a class method to count the total number of persons created.\n",
        "\n",
        "'''\n",
        "class Person:\n",
        "    # Class variable to count the number of Person objects created\n",
        "    _count = 0\n",
        "\n",
        "    def __init__(self, name, age):\n",
        "        self.name = name\n",
        "        self.age = age\n",
        "        # Increment the count every time a new instance is created\n",
        "        Person._count += 1\n",
        "\n",
        "    @classmethod\n",
        "    def total_persons(cls):\n",
        "        \"\"\"Class method to return the total number of Person objects created.\"\"\"\n",
        "        return cls._count\n",
        "\n",
        "# Example usage:\n",
        "\n",
        "# Create some Person objects\n",
        "person1 = Person(\"Alice\", 30)\n",
        "person2 = Person(\"Bob\", 25)\n",
        "person3 = Person(\"Charlie\", 35)\n",
        "\n",
        "# Get the total number of Person objects created\n",
        "\n",
        "print(f\"Total persons created: {Person.total_persons()}\")\n",
        "\n",
        "'''"
      ],
      "metadata": {
        "id": "XewoFbXFchtg"
      },
      "execution_count": null,
      "outputs": []
    },
    {
      "cell_type": "code",
      "source": [
        "# Question 9. Write a class Fraction with attributes numerator and denominator. Override the str method to display the fraction as \"numerator/denominator\".\n",
        "\n",
        "'''\n",
        "class Fraction:\n",
        "    def __init__(self, numerator, denominator):\n",
        "\n",
        "        self.numerator = numerator\n",
        "        self.denominator = denominator\n",
        "\n",
        "    def __str__(self):\n",
        "\n",
        "        return f\"{self.numerator}/{self.denominator}\"\n",
        "\n",
        "# Example usage:\n",
        "fraction1 = Fraction(3, 4)\n",
        "fraction2 = Fraction(5, 8)\n",
        "\n",
        "# Displaying the fractions using __str__()\n",
        "print(fraction1)\n",
        "print(fraction2)\n",
        "\n",
        "'''"
      ],
      "metadata": {
        "colab": {
          "base_uri": "https://localhost:8080/",
          "height": 70
        },
        "id": "OWSRIokpc9x1",
        "outputId": "7c4318bd-b67a-40c7-992d-14687a4bcc06"
      },
      "execution_count": null,
      "outputs": [
        {
          "output_type": "execute_result",
          "data": {
            "text/plain": [
              "'\\nclass Fraction:\\n    def __init__(self, numerator, denominator):\\n       \\n        self.numerator = numerator\\n        self.denominator = denominator\\n\\n    def __str__(self):\\n        \\n        return f\"{self.numerator}/{self.denominator}\"\\n\\n# Example usage:\\nfraction1 = Fraction(3, 4)\\nfraction2 = Fraction(5, 8)\\n\\n# Displaying the fractions using __str__()\\nprint(fraction1)  \\nprint(fraction2)  \\n\\n'"
            ],
            "application/vnd.google.colaboratory.intrinsic+json": {
              "type": "string"
            }
          },
          "metadata": {},
          "execution_count": 2
        }
      ]
    },
    {
      "cell_type": "code",
      "source": [
        "# Question 10.Demonstrate operator overloading by creating a class Vector and overriding the add method to add two vectors.\n",
        "\n",
        "'''\n",
        "\n",
        "class Vector:\n",
        "    def __init__(self, x, y):\n",
        "        self.x = x\n",
        "        self.y = y\n",
        "\n",
        "    def __add__(self, other):\n",
        "\n",
        "        if isinstance(other, Vector):\n",
        "            return Vector(self.x + other.x, self.y + other.y)\n",
        "        else:\n",
        "            raise TypeError(\"Operands must be of type 'Vector'\")\n",
        "\n",
        "    def __repr__(self):\n",
        "\n",
        "        return f\"Vector({self.x}, {self.y})\"\n",
        "\n",
        "# Creating two vector instances\n",
        "v1 = Vector(2, 3)\n",
        "v2 = Vector(4, 1)\n",
        "\n",
        "# Adding two vectors using the overloaded + operator\n",
        "v3 = v1 + v2\n",
        "\n",
        "print(f\"v1: {v1}\")\n",
        "print(f\"v2: {v2}\")\n",
        "print(f\"v3 (v1 + v2): {v3}\")\n",
        "\n",
        "'''"
      ],
      "metadata": {
        "id": "FjMBdpyTdPB2"
      },
      "execution_count": null,
      "outputs": []
    },
    {
      "cell_type": "code",
      "source": [
        "# Question 11.  Create a class Person with attributes name and age. Add a method greet() that prints \"Hello, my name is {name} and I am {age} years old.\"\n",
        "\n",
        "'''\n",
        "\n",
        "class Person:\n",
        "    def __init__(self, name, age):\n",
        "        self.name = name  # Name of the person\n",
        "        self.age = age    # Age of the person\n",
        "\n",
        "    def greet(self):\n",
        "        # Prints the greeting message\n",
        "        print(f\"Hello, my name is {self.name} and I am {self.age} years old.\")\n",
        "\n",
        "# Creating a Person instance\n",
        "person1 = Person(\"Alice\", 30)\n",
        "\n",
        "# Calling the greet method\n",
        "person1.greet()\n",
        "\n",
        "'''"
      ],
      "metadata": {
        "colab": {
          "base_uri": "https://localhost:8080/",
          "height": 70
        },
        "id": "Mtpp8G6FesLL",
        "outputId": "07712759-2cea-48ce-f714-e9dc61642ca6"
      },
      "execution_count": 3,
      "outputs": [
        {
          "output_type": "execute_result",
          "data": {
            "text/plain": [
              "'\\n\\nclass Person:\\n    def __init__(self, name, age):\\n        self.name = name  # Name of the person\\n        self.age = age    # Age of the person\\n    \\n    def greet(self):\\n        # Prints the greeting message\\n        print(f\"Hello, my name is {self.name} and I am {self.age} years old.\")\\n\\n# Creating a Person instance\\nperson1 = Person(\"Alice\", 30)\\n\\n# Calling the greet method\\nperson1.greet()\\n\\n'"
            ],
            "application/vnd.google.colaboratory.intrinsic+json": {
              "type": "string"
            }
          },
          "metadata": {},
          "execution_count": 3
        }
      ]
    },
    {
      "cell_type": "code",
      "source": [
        "# Question 12. Implement a class Student with attributes name and grades. Create a method average_grade() to compute the average of the grades.\n",
        "\n",
        "'''\n",
        "\n",
        "class Student:\n",
        "    def __init__(self, name, grades):\n",
        "        self.name = name  # Name of the student\n",
        "        self.grades = grades  # List of grades\n",
        "\n",
        "    def average_grade(self):\n",
        "        # Computes the average of the grades\n",
        "        if len(self.grades) > 0:\n",
        "            return sum(self.grades) / len(self.grades)\n",
        "        else:\n",
        "            return 0  # Return 0 if there are no grades\n",
        "\n",
        "# Creating a Student instance\n",
        "student1 = Student(\"John\", [85, 90, 78, 92, 88])\n",
        "\n",
        "# Calling the average_grade method\n",
        "avg = student1.average_grade()\n",
        "\n",
        "print(f\"{student1.name}'s average grade is: {avg}\")\n",
        "\n",
        "\n",
        "'''"
      ],
      "metadata": {
        "id": "5bA2RhpWfKWQ"
      },
      "execution_count": null,
      "outputs": []
    },
    {
      "cell_type": "code",
      "source": [
        "# Question 13.Create a class Rectangle with methods set_dimensions() to set the dimensions and area() to calculate the area.\n",
        "\n",
        "'''\n",
        "class Rectangle:\n",
        "    def __init__(self):\n",
        "        self.length = 0  # Initializing length of the rectangle\n",
        "        self.width = 0   # Initializing width of the rectangle\n",
        "\n",
        "    def set_dimensions(self, length, width):\n",
        "        # Method to set the dimensions of the rectangle\n",
        "        self.length = length\n",
        "        self.width = width\n",
        "\n",
        "    def area(self):\n",
        "        # Method to calculate the area of the rectangle\n",
        "        return self.length * self.width\n",
        "\n",
        "# Creating a Rectangle instance\n",
        "\n",
        "rectangle1 = Rectangle()\n",
        "\n",
        "\n",
        "rectangle1.set_dimensions(5, 3)\n",
        "\n",
        "# Calculating and printing the area\n",
        "area = rectangle1.area()\n",
        "print(f\"The area of the rectangle is: {area}\")\n",
        "\n",
        "'''"
      ],
      "metadata": {
        "id": "4aU7YPQLfevm"
      },
      "execution_count": null,
      "outputs": []
    },
    {
      "cell_type": "code",
      "source": [
        "# Question 14. Create a class Employee with a method calculate_salary() that computes the salary based on hours worked and hourly rate. Create a derived class Manager that adds a bonus to the salary.\n",
        "\n",
        "'''\n",
        "class Employee:\n",
        "    def __init__(self, name, hours_worked, hourly_rate):\n",
        "        self.name = name                  # Name of the employee\n",
        "        self.hours_worked = hours_worked  # Number of hours worked\n",
        "        self.hourly_rate = hourly_rate   # Hourly rate of the employee\n",
        "\n",
        "    def calculate_salary(self):\n",
        "        # Calculates the salary based on hours worked and hourly rate\n",
        "        return self.hours_worked * self.hourly_rate\n",
        "\n",
        "class Manager(Employee):\n",
        "    def __init__(self, name, hours_worked, hourly_rate, bonus):\n",
        "        super().__init__(name, hours_worked, hourly_rate)  # Initialize the parent class (Employee)\n",
        "        self.bonus = bonus                                 # Bonus for the manager\n",
        "\n",
        "    def calculate_salary(self):\n",
        "        # Calculates the salary and adds a bonus for the manager\n",
        "        base_salary = super().calculate_salary()  # Calculate base salary using Employee's method\n",
        "        return base_salary + self.bonus  # Add bonus to the base salary\n",
        "\n",
        "# Creating an Employee instance\n",
        "employee1 = Employee(\"John\", 160, 20)  # 160 hours worked, hourly rate of $20\n",
        "salary_employee = employee1.calculate_salary()\n",
        "print(f\"{employee1.name}'s salary: ${salary_employee}\")\n",
        "\n",
        "# Creating a Manager instance\n",
        "manager1 = Manager(\"Alice\", 160, 25, 500)\n",
        "salary_manager = manager1.calculate_salary()\n",
        "print(f\"{manager1.name}'s salary: ${salary_manager}\")\n"
      ],
      "metadata": {
        "id": "4cxazqfXfzpS"
      },
      "execution_count": null,
      "outputs": []
    },
    {
      "cell_type": "code",
      "source": [
        "# Question 15.  Create a class Product with attributes name, price, and quantity. Implement a method total_price() that calculates the total price of the product.\n",
        "\n",
        "'''\n",
        "\n",
        "class Product:\n",
        "    def __init__(self, name, price, quantity):\n",
        "        self.name = name  # Name of the product\n",
        "        self.price = price  # Price of the product\n",
        "        self.quantity = quantity  # Quantity of the product\n",
        "\n",
        "    def total_price(self):\n",
        "        # Calculates the total price (price * quantity)\n",
        "        return self.price * self.quantity\n",
        "\n",
        "# Creating a Product instance\n",
        "product1 = Product(\"Laptop\", 1000, 3)\n",
        "\n",
        "# Calculating and printing the total price\n",
        "total = product1.total_price()\n",
        "print(f\"The total price for {product1.quantity} {product1.name}(s) is: ${total}\")\n",
        "\n",
        "\n",
        "'''\n"
      ],
      "metadata": {
        "id": "vCCnG-ZdgWOv"
      },
      "execution_count": null,
      "outputs": []
    },
    {
      "cell_type": "code",
      "source": [
        "# Question 16.. Create a class Animal with an abstract method sound(). Create two derived classes Cow and Sheep that implement the sound() method.\n",
        "\n",
        "'''\n",
        "from abc import ABC, abstractmethod\n",
        "\n",
        "class Animal(ABC):\n",
        "    @abstractmethod\n",
        "    def sound(self):\n",
        "        pass  # Abstract method, must be implemented in the derived class\n",
        "\n",
        "class Cow(Animal):\n",
        "    def sound(self):\n",
        "        return \"Moo\"  # Cow sound\n",
        "\n",
        "class Sheep(Animal):\n",
        "    def sound(self):\n",
        "        return \"Baa\"  # Sheep sound\n",
        "\n",
        "# Creating instances of Cow and Sheep\n",
        "cow = Cow()\n",
        "sheep = Sheep()\n",
        "\n",
        "# Calling the sound method on both instances\n",
        "print(f\"Cow sound: {cow.sound()}\")\n",
        "print(f\"Sheep sound: {sheep.sound()}\")\n",
        "\n",
        "\n",
        "''"
      ],
      "metadata": {
        "id": "3JmiSC3igq7b"
      },
      "execution_count": null,
      "outputs": []
    },
    {
      "cell_type": "code",
      "source": [
        "# Question 17. Create a class Book with attributes title, author, and year_published. Add a method get_book_info() that returns a formatted string with the book's details.\n",
        "\n",
        "'''\n",
        "\n",
        "class Book:\n",
        "    def __init__(self, title, author, year_published):\n",
        "        self.title = title                     # Title of the book\n",
        "        self.author = author                   # Author of the book\n",
        "        self.year_published = year_published   # Year the book was published\n",
        "\n",
        "    def get_book_info(self):\n",
        "        # Returns a formatted string with the book's details\n",
        "        return f\"'{self.title}' by {self.author}, published in {self.year_published}\"\n",
        "\n",
        "# Creating a Book instance\n",
        "book1 = Book(\"1984\", \"George Orwell\", 1949)\n",
        "\n",
        "# Calling the get_book_info method\n",
        "book_info = book1.get_book_info()\n",
        "print(book_info)\n",
        "\n",
        "'''"
      ],
      "metadata": {
        "id": "i0inPSeGhENo"
      },
      "execution_count": null,
      "outputs": []
    },
    {
      "cell_type": "code",
      "source": [
        "# Question 18.  Create a class House with attributes address and price. Create a derived class Mansion that adds an attribute number_of_rooms.\n",
        "\n",
        "'''\n",
        "\n",
        "class House:\n",
        "    def __init__(self, address, price):\n",
        "        self.address = address  # Address of the house\n",
        "        self.price = price      # Price of the house\n",
        "\n",
        "    def get_house_info(self):\n",
        "\n",
        "        return f\"House at {self.address}, priced at ${self.price}\"\n",
        "\n",
        "class Mansion(House):\n",
        "    def __init__(self, address, price, number_of_rooms):\n",
        "        super().__init__(address, price)  # Initialize the parent class (House)\n",
        "        self.number_of_rooms = number_of_rooms  # Number of rooms in the mansion\n",
        "\n",
        "    def get_mansion_info(self):\n",
        "\n",
        "        house_info = super().get_house_info()  # Get base house info\n",
        "        return f\"{house_info}, with {self.number_of_rooms} rooms\"\n",
        "\n",
        "# Creating a House instance\n",
        "house1 = House(\"123 Main St\", 250000)\n",
        "\n",
        "# Creating a Mansion instance\n",
        "mansion1 = Mansion(\"456 Luxury Blvd\", 1500000, 10)\n",
        "\n",
        "# Calling the methods\n",
        "print(house1.get_house_info())  # House details\n",
        "print(mansion1.get_mansion_info())  # Mansion details\n"
      ],
      "metadata": {
        "id": "bPl8mieLhnJr"
      },
      "execution_count": null,
      "outputs": []
    },
    {
      "cell_type": "code",
      "source": [],
      "metadata": {
        "id": "c2m2Kiwrh98X"
      },
      "execution_count": null,
      "outputs": []
    }
  ]
}